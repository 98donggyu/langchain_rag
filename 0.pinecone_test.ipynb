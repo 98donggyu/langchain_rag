{
 "cells": [
  {
   "cell_type": "markdown",
   "id": "090ac7ad",
   "metadata": {},
   "source": [
    "# 파인콘 테스트"
   ]
  },
  {
   "cell_type": "code",
   "execution_count": null,
   "id": "68aea694",
   "metadata": {
    "vscode": {
     "languageId": "plaintext"
    }
   },
   "outputs": [],
   "source": []
  },
  {
   "cell_type": "markdown",
   "id": "fae5a489",
   "metadata": {},
   "source": [
    "## pinecone 클라이언트 index 객체 생성"
   ]
  },
  {
   "cell_type": "code",
   "execution_count": null,
   "id": "7a7f9bfe",
   "metadata": {
    "vscode": {
     "languageId": "plaintext"
    }
   },
   "outputs": [],
   "source": []
  },
  {
   "cell_type": "markdown",
   "id": "8c931c40",
   "metadata": {},
   "source": [
    "## index 삭제"
   ]
  },
  {
   "cell_type": "code",
   "execution_count": null,
   "id": "1b0d3574",
   "metadata": {
    "vscode": {
     "languageId": "plaintext"
    }
   },
   "outputs": [],
   "source": []
  },
  {
   "cell_type": "markdown",
   "id": "53a1f8df",
   "metadata": {},
   "source": [
    "## 코드로 index 생성"
   ]
  },
  {
   "cell_type": "code",
   "execution_count": null,
   "id": "8187e360",
   "metadata": {
    "vscode": {
     "languageId": "plaintext"
    }
   },
   "outputs": [],
   "source": []
  }
 ],
 "metadata": {
  "language_info": {
   "name": "python"
  }
 },
 "nbformat": 4,
 "nbformat_minor": 5
}
